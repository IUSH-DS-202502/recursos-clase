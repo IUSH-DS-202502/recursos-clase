{
 "cells": [
  {
   "cell_type": "markdown",
   "metadata": {},
   "source": [
    "# Árboles representados como Nodos y listas\n",
    "\n",
    "Es una combinación de la representación de listas y los nodos."
   ]
  },
  {
   "cell_type": "code",
   "execution_count": 4,
   "metadata": {},
   "outputs": [],
   "source": [
    "class ArbolNL:\n",
    "    def __init__(self,valor):\n",
    "        self.valor = valor\n",
    "        self.hijos = []\n",
    "    \n",
    "    def adicionar_hijo(self,hijo):\n",
    "        self.hijos.append(hijo)\n",
    "\n",
    "    def retorna_hijo(self,pos):\n",
    "        return self.hijos[pos]\n",
    "    \n",
    "    def grado(self):\n",
    "        return len(self.hijos)"
   ]
  },
  {
   "cell_type": "code",
   "execution_count": 5,
   "metadata": {},
   "outputs": [],
   "source": [
    "arbol_a = ArbolNL('a') # Se crea la raiz con el elemento 'a'\n",
    "sub_arbol_b = ArbolNL('b') # Se crea el subarbol b\n",
    "sub_arbol_c = ArbolNL('c') # Se crea el subarbol c\n",
    "arbol_a.adicionar_hijo(sub_arbol_b) # Se agrega c como hijo del nodo a (se crea la rama)\n",
    "arbol_a.adicionar_hijo(sub_arbol_c) # Se agrega c como hijo del nodo a\n",
    "sub_arbol_d = ArbolNL('d') # Se crea el subarbol d\n",
    "sub_arbol_e = ArbolNL('e') # Se crea el subarbol e\n",
    "sub_arbol_b.adicionar_hijo(sub_arbol_d) # Se agrega b como hijo del nodo b\n",
    "sub_arbol_b.adicionar_hijo(sub_arbol_e) # Se agrega c como hijo del nodo b"
   ]
  },
  {
   "cell_type": "code",
   "execution_count": 7,
   "metadata": {},
   "outputs": [
    {
     "name": "stdout",
     "output_type": "stream",
     "text": [
      "Inicio proceso padre a\n",
      "Inicio proceso padre b\n",
      "Procesando hoja d -> 1\n",
      "Procesando hoja e -> 1\n",
      "Fin proceso padre b -> 2\n",
      "Procesando hoja c -> 1\n",
      "Fin proceso padre a -> 3\n"
     ]
    },
    {
     "data": {
      "text/plain": [
       "3"
      ]
     },
     "execution_count": 7,
     "metadata": {},
     "output_type": "execute_result"
    }
   ],
   "source": [
    "def conteo_hojas_arbol(padre:ArbolNL):\n",
    "    if padre.grado() == 0:\n",
    "        print(f\"Procesando hoja {padre.valor} -> 1\")\n",
    "        return 1\n",
    "    print(f\"Inicio proceso padre {padre.valor}\")\n",
    "    conteo_hojas = 0\n",
    "    for c_idx in range(padre.grado()):\n",
    "        conteo_hojas += conteo_hojas_arbol(padre.retorna_hijo(c_idx))\n",
    "    print(f\"Fin proceso padre {padre.valor} -> {conteo_hojas}\")\n",
    "    return conteo_hojas\n",
    "\n",
    "conteo_hojas_arbol(arbol_a)"
   ]
  },
  {
   "cell_type": "code",
   "execution_count": 8,
   "metadata": {},
   "outputs": [
    {
     "name": "stdout",
     "output_type": "stream",
     "text": [
      "Inicio grado subarbol a -> 2 \n",
      "Inicio grado subarbol b -> 2 \n",
      "Procesando hoja d -> 0\n",
      "Procesando hoja e -> 0\n",
      "Maximo grado hijos subarbol b -> 0 \n",
      "Maximo grado subarbol b -> 2 \n",
      "Procesando hoja c -> 0\n",
      "Maximo grado hijos subarbol a -> 2 \n",
      "Maximo grado subarbol a -> 2 \n"
     ]
    },
    {
     "data": {
      "text/plain": [
       "2"
      ]
     },
     "execution_count": 8,
     "metadata": {},
     "output_type": "execute_result"
    }
   ],
   "source": [
    "def grado_arbol(padre):\n",
    "    if padre.grado() == 0:\n",
    "        print(f\"Procesando hoja {padre.valor} -> 0\")\n",
    "        return 0\n",
    "    max_grado_hijo = 0\n",
    "    print(f\"Inicio grado subarbol {padre.valor} -> {padre.grado()} \")\n",
    "    for c_idx in range(padre.grado()):\n",
    "        max_grado_hijo = max(max_grado_hijo,grado_arbol(padre.retorna_hijo(c_idx)))\n",
    "    print(f\"Maximo grado hijos subarbol {padre.valor} -> {max_grado_hijo} \")\n",
    "    max_grado = max(max_grado_hijo, padre.grado())\n",
    "    print(f\"Maximo grado subarbol {padre.valor} -> {max_grado} \")\n",
    "    return max_grado\n",
    "grado_arbol(arbol_a)"
   ]
  },
  {
   "cell_type": "code",
   "execution_count": 10,
   "metadata": {},
   "outputs": [
    {
     "name": "stdout",
     "output_type": "stream",
     "text": [
      "a\n",
      "   b\n",
      "      d\n",
      "      e\n",
      "   c\n"
     ]
    }
   ],
   "source": [
    "def print_arbol(padre, idx):\n",
    "    espacios = \" \" * idx\n",
    "    print(f\"{espacios}{padre.valor}\")\n",
    "    for c_idx in range(padre.grado()):\n",
    "        print_arbol(padre.retorna_hijo(c_idx), idx + 3)\n",
    "\n",
    "print_arbol(arbol_a, 0)"
   ]
  }
 ],
 "metadata": {
  "kernelspec": {
   "display_name": "realbase",
   "language": "python",
   "name": "python3"
  },
  "language_info": {
   "codemirror_mode": {
    "name": "ipython",
    "version": 3
   },
   "file_extension": ".py",
   "mimetype": "text/x-python",
   "name": "python",
   "nbconvert_exporter": "python",
   "pygments_lexer": "ipython3",
   "version": "3.11.8"
  }
 },
 "nbformat": 4,
 "nbformat_minor": 2
}
