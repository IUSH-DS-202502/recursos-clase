{
 "cells": [
  {
   "cell_type": "markdown",
   "metadata": {},
   "source": [
    "# Arbol representado como Nodos y Ligas\n",
    "\n",
    "Implementación básica"
   ]
  },
  {
   "cell_type": "code",
   "execution_count": 13,
   "metadata": {},
   "outputs": [],
   "source": [
    "class NodoB:\n",
    "    def __init__(self,dato):\n",
    "        self.dato = dato\n",
    "        self.Li = None\n",
    "        self.Ld = None\n",
    "\n",
    "class ArbolBinario:\n",
    "    def __init__(self):\n",
    "        self.raiz = None\n",
    "\n",
    "    def inserta_raiz(self,dato):\n",
    "        nodo = NodoB(dato)\n",
    "        self.raiz = nodo\n",
    "        return nodo\n",
    "\n",
    "    def insertar_izq(self, dato, padre):\n",
    "        nodo = NodoB(dato)\n",
    "        padre.Li = nodo\n",
    "        return nodo\n",
    "\n",
    "    def insertar_der(self, dato, padre):\n",
    "        nodo = NodoB(dato)\n",
    "        padre.Ld = nodo\n",
    "        return nodo\n",
    "    \n",
    "    def inorden(self, padre):\n",
    "        if padre is None:\n",
    "            return\n",
    "        self.inorden(padre.Li)\n",
    "        print(padre.dato, end=\"\")\n",
    "        self.inorden(padre.Ld)\n",
    "    \n",
    "    def preorden(self, padre):\n",
    "        if padre is None:\n",
    "            return\n",
    "        print(padre.dato, end=\"\")\n",
    "        self.preorden(padre.Li)\n",
    "        self.preorden(padre.Ld)\n",
    "\n",
    "    def posorden(self, padre):\n",
    "        if padre is None:\n",
    "            return\n",
    "        self.posorden(padre.Li)\n",
    "        self.posorden(padre.Ld)\n",
    "        print(padre.dato, end=\"\")"
   ]
  },
  {
   "cell_type": "markdown",
   "metadata": {},
   "source": [
    "### Creación de un árbol de ejemplo"
   ]
  },
  {
   "cell_type": "code",
   "execution_count": 14,
   "metadata": {},
   "outputs": [],
   "source": [
    "bt = ArbolBinario() # Se crea la instancia del árbol\n",
    "bt.inserta_raiz(\"-\") # Se inserta el primer elemento en la raiz\n",
    "nb = bt.insertar_izq(\"+\",bt.raiz) # Se inserta el + a la izquierda de la del -\n",
    "nc = bt.insertar_izq(\"2\",nb) # Se inserta el 2 a la izquierda del +\n",
    "nd = bt.insertar_der(\"5\",nb) # Se inserta el 5 a la derecha del +\n",
    "ne = bt.insertar_der(\"4\", bt.raiz) # Se inserta el 4 a la derecha del -"
   ]
  },
  {
   "cell_type": "markdown",
   "metadata": {},
   "source": [
    "### Recorrido preorden"
   ]
  },
  {
   "cell_type": "code",
   "execution_count": 22,
   "metadata": {},
   "outputs": [
    {
     "name": "stdout",
     "output_type": "stream",
     "text": [
      "-+254"
     ]
    }
   ],
   "source": [
    "bt.preorden(bt.raiz)"
   ]
  },
  {
   "cell_type": "markdown",
   "metadata": {},
   "source": [
    "### Recorrido Posorden"
   ]
  },
  {
   "cell_type": "code",
   "execution_count": 17,
   "metadata": {},
   "outputs": [
    {
     "name": "stdout",
     "output_type": "stream",
     "text": [
      "25+4-"
     ]
    }
   ],
   "source": [
    "bt.posorden(bt.raiz)"
   ]
  },
  {
   "cell_type": "markdown",
   "metadata": {},
   "source": [
    "### Recorrido Inorden"
   ]
  },
  {
   "cell_type": "code",
   "execution_count": 18,
   "metadata": {},
   "outputs": [
    {
     "name": "stdout",
     "output_type": "stream",
     "text": [
      "2+5-4"
     ]
    }
   ],
   "source": [
    "bt.inorden(bt.raiz)"
   ]
  },
  {
   "cell_type": "code",
   "execution_count": 21,
   "metadata": {},
   "outputs": [
    {
     "name": "stdout",
     "output_type": "stream",
     "text": [
      "Preorden: \n",
      "-+254\n",
      "\n",
      "Inorden: \n",
      "2+5-4\n",
      "\n",
      "Posorden: \n",
      "25+4-"
     ]
    }
   ],
   "source": [
    "print(\"Preorden: \")\n",
    "bt.preorden(bt.raiz)\n",
    "print(\"\\n\\nInorden: \")\n",
    "bt.inorden(bt.raiz)\n",
    "print(\"\\n\\nPosorden: \")\n",
    "bt.posorden(bt.raiz)"
   ]
  }
 ],
 "metadata": {
  "kernelspec": {
   "display_name": "realbase",
   "language": "python",
   "name": "python3"
  },
  "language_info": {
   "codemirror_mode": {
    "name": "ipython",
    "version": 3
   },
   "file_extension": ".py",
   "mimetype": "text/x-python",
   "name": "python",
   "nbconvert_exporter": "python",
   "pygments_lexer": "ipython3",
   "version": "3.11.8"
  }
 },
 "nbformat": 4,
 "nbformat_minor": 2
}
