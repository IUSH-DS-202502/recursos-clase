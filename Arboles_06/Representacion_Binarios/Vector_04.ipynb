{
 "cells": [
  {
   "cell_type": "code",
   "execution_count": 12,
   "metadata": {},
   "outputs": [],
   "source": [
    "\n",
    "class ArbolBinarioVector:\n",
    "    def __init__(self, altura_max: int):\n",
    "        self.V = [None] * ((2**altura_max)-1)\n",
    "\n",
    "    def inserta_raiz(self,valor):\n",
    "        self.V[0] = valor\n",
    "    \n",
    "    def inserta_izq(self,valor, pos_padre):\n",
    "        pos_hijo = 2*pos_padre+1\n",
    "        if self.V[pos_padre] is None:\n",
    "            raise Exception(\"No hay un elemento en la posición\")\n",
    "        if len(self.V) <= pos_hijo:\n",
    "            raise Exception(\"El nivel supera a la capacidad del arreglo.\")\n",
    "        self.V[2*pos_padre+1] = valor\n",
    "        return pos_hijo\n",
    "\n",
    "    def inserta_der(self,valor, pos_padre):\n",
    "        pos_hijo = 2*pos_padre+2\n",
    "        if self.V[pos_padre] is None:\n",
    "            raise Exception(\"No hay un elemento en la posición\")\n",
    "        if len(self.V) <= pos_hijo:\n",
    "            raise Exception(\"El nivel supera a la capacidad del arreglo.\")\n",
    "        self.V[2*pos_padre+2] = valor\n",
    "        return pos_hijo\n",
    "\n",
    "    def retorna_izq(self, pos_padre):\n",
    "        return self.V[2*pos_padre+1]\n",
    "    \n",
    "    def retorna_der(self, pos_padre):\n",
    "        return self.V[2*pos_padre+2]\n",
    "    \n",
    "    def retorna_pos_izq(self, pos_padre):\n",
    "        return 2*pos_padre+1\n",
    "    \n",
    "    def retorna_pos_der(self, pos_padre):\n",
    "        return 2*pos_padre+2\n"
   ]
  },
  {
   "cell_type": "code",
   "execution_count": 15,
   "metadata": {},
   "outputs": [
    {
     "name": "stdout",
     "output_type": "stream",
     "text": [
      "['a', 'b', 'e', 'c', 'd', 'f', 'g']\n"
     ]
    }
   ],
   "source": [
    "arbol = ArbolBinarioVector(3)\n",
    "arbol.inserta_raiz('a')\n",
    "pos_b = arbol.inserta_izq('b',0)\n",
    "pos_e = arbol.inserta_der('e',0)\n",
    "arbol.inserta_izq('c',pos_b)\n",
    "arbol.inserta_der('d',pos_b)\n",
    "arbol.inserta_izq('f',pos_e)\n",
    "arbol.inserta_der('g',pos_e)\n",
    "print(arbol.V)"
   ]
  },
  {
   "cell_type": "code",
   "execution_count": 21,
   "metadata": {},
   "outputs": [
    {
     "name": "stdout",
     "output_type": "stream",
     "text": [
      "a\n",
      "   b\n",
      "      c\n",
      "      d\n",
      "   e\n",
      "      f\n",
      "      g\n"
     ]
    }
   ],
   "source": [
    "def print_arbol(arbol, pos_padre, idx):\n",
    "\n",
    "    if(pos_padre >= len(arbol.V)):\n",
    "        return\n",
    "\n",
    "    espacios = \" \" * idx\n",
    "    pos_hijo_izq = 2*pos_padre+1\n",
    "    pos_hijo_der = 2*pos_padre+2\n",
    "\n",
    "    print(f\"{espacios}{arbol.V[pos_padre]}\")\n",
    "    print_arbol(arbol, pos_hijo_izq, idx + 3)\n",
    "    print_arbol(arbol, pos_hijo_der, idx + 3)\n",
    "\n",
    "print_arbol(arbol, 0, 0)"
   ]
  }
 ],
 "metadata": {
  "kernelspec": {
   "display_name": "realbase",
   "language": "python",
   "name": "python3"
  },
  "language_info": {
   "codemirror_mode": {
    "name": "ipython",
    "version": 3
   },
   "file_extension": ".py",
   "mimetype": "text/x-python",
   "name": "python",
   "nbconvert_exporter": "python",
   "pygments_lexer": "ipython3",
   "version": "3.11.8"
  }
 },
 "nbformat": 4,
 "nbformat_minor": 2
}
