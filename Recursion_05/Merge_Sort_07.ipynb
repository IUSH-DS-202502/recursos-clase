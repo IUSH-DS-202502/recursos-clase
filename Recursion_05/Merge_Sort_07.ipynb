{
 "cells": [
  {
   "cell_type": "code",
   "execution_count": 80,
   "metadata": {},
   "outputs": [],
   "source": [
    "def intercalar(V, primero, mitad, ultimo):\n",
    "    izq = V[primero:mitad] # Vector con elementos de la primera mitad\n",
    "    der = V[mitad:ultimo] # Vector con elementos de la segunda mitad\n",
    "\n",
    "    i = 0\n",
    "    j = 0\n",
    "    k = primero\n",
    "\n",
    "    while i < len(izq) and j < len(der): #Se intercalan los elementos de ambos vectores\n",
    "        if izq[i] <= der[j]: #Si el siguiente elemento del vector izquierdo es menor o igual al derecho\n",
    "            V[k] = izq[i] \n",
    "            i += 1\n",
    "        else:\n",
    "            V[k] = der[j]\n",
    "            j += 1\n",
    "        k += 1\n",
    "    \n",
    "    while i < len(izq): # Si quedan elementos en el subvector izquierdo\n",
    "        V[k] = izq[i] # Se almacenan en las siguientes posiciones del vector\n",
    "        i += 1\n",
    "        k += 1\n",
    "    while j < len(der): # Si quedan elementos en el subvector derecho\n",
    "        V[k] = der[j] # Se almacenan en las siguientes posiciones del vector\n",
    "        j += 1\n",
    "        k += 1\n"
   ]
  },
  {
   "cell_type": "code",
   "execution_count": 81,
   "metadata": {},
   "outputs": [],
   "source": [
    "def merge_sort(V, primero, ultimo):\n",
    "    if ultimo-primero > 1: # Solo se entra si hay más de un elemento por ordenar\n",
    "        mitad = primero + (ultimo - primero) // 2 # Se encuentra la posición del elemento de la mitad\n",
    "        merge_sort(V, primero, mitad) # Se ejecuta el algortimo con la primera mitad\n",
    "        merge_sort(V, mitad, ultimo) # Se ejecuta el algortimo con la segunda mitad\n",
    "        intercalar(V, primero, mitad, ultimo) #Se intercalan los resultados."
   ]
  },
  {
   "cell_type": "code",
   "execution_count": 84,
   "metadata": {},
   "outputs": [
    {
     "name": "stdout",
     "output_type": "stream",
     "text": [
      "Arreglo Original: [16, 1, 5, 20, 15, 6]\n",
      "Arreglo Ordenado: [1, 5, 6, 15, 16, 20]\n"
     ]
    }
   ],
   "source": [
    "A = [16,1,5,20,15,6]\n",
    "print(f\"Arreglo Original: {A}\")\n",
    "merge_sort(A, 0,len(A))\n",
    "print(f\"Arreglo Ordenado: {A}\")"
   ]
  }
 ],
 "metadata": {
  "kernelspec": {
   "display_name": "realbase",
   "language": "python",
   "name": "python3"
  },
  "language_info": {
   "codemirror_mode": {
    "name": "ipython",
    "version": 3
   },
   "file_extension": ".py",
   "mimetype": "text/x-python",
   "name": "python",
   "nbconvert_exporter": "python",
   "pygments_lexer": "ipython3",
   "version": "3.11.8"
  }
 },
 "nbformat": 4,
 "nbformat_minor": 2
}
