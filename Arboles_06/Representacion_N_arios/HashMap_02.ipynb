{
 "cells": [
  {
   "cell_type": "markdown",
   "metadata": {},
   "source": [
    "# Árboles representados como HashMap\n",
    "\n",
    "Se considera el primer elemento de la lista como el valor contenido en el nodo y los elementos restantes como ramas a otros nodos."
   ]
  },
  {
   "cell_type": "code",
   "execution_count": 4,
   "metadata": {},
   "outputs": [],
   "source": [
    "import json"
   ]
  },
  {
   "cell_type": "code",
   "execution_count": 13,
   "metadata": {},
   "outputs": [
    {
     "name": "stdout",
     "output_type": "stream",
     "text": [
      "Representación en una sola línea\n",
      "{'valor': 'a', 'hijos': [{'valor': 'b', 'hijos': [{'valor': 'd', 'hijos': []}, {'valor': 'e', 'hijos': []}]}, {'valor': 'c', 'hijos': []}]}\n",
      "Representación en multiples líneas\n",
      "{\n",
      "  \"valor\": \"a\",\n",
      "  \"hijos\": [\n",
      "    {\n",
      "      \"valor\": \"b\",\n",
      "      \"hijos\": [\n",
      "        {\n",
      "          \"valor\": \"d\",\n",
      "          \"hijos\": []\n",
      "        },\n",
      "        {\n",
      "          \"valor\": \"e\",\n",
      "          \"hijos\": []\n",
      "        }\n",
      "      ]\n",
      "    },\n",
      "    {\n",
      "      \"valor\": \"c\",\n",
      "      \"hijos\": []\n",
      "    }\n",
      "  ]\n",
      "}\n"
     ]
    }
   ],
   "source": [
    "arbol_a = {\n",
    "  \"valor\": \"a\",\n",
    "  \"hijos\": [\n",
    "    {\n",
    "      \"valor\": \"b\",\n",
    "      \"hijos\": [\n",
    "        {\n",
    "          \"valor\": \"d\",\n",
    "          \"hijos\": []\n",
    "        },\n",
    "        {\n",
    "          \"valor\": \"e\",\n",
    "          \"hijos\": []\n",
    "        }\n",
    "      ]\n",
    "    },\n",
    "    {\n",
    "      \"valor\": \"c\",\n",
    "      \"hijos\": []\n",
    "    }\n",
    "  ]\n",
    "}\n",
    "\n",
    "print(\"Representación en una sola línea\")\n",
    "print(arbol_a)\n",
    "print(\"Representación en multiples líneas\")\n",
    "print(json.dumps(arbol_a, indent=2))"
   ]
  },
  {
   "cell_type": "code",
   "execution_count": 10,
   "metadata": {},
   "outputs": [
    {
     "name": "stdout",
     "output_type": "stream",
     "text": [
      "Inicio proceso padre a\n",
      "Inicio proceso padre b\n",
      "Procesando hoja d -> 1\n",
      "Procesando hoja e -> 1\n",
      "Fin proceso padre b -> 2\n",
      "Procesando hoja c -> 1\n",
      "Fin proceso padre a -> 3\n"
     ]
    },
    {
     "data": {
      "text/plain": [
       "3"
      ]
     },
     "execution_count": 10,
     "metadata": {},
     "output_type": "execute_result"
    }
   ],
   "source": [
    "def conteo_hojas_arbol(padre):\n",
    "    if len(padre['hijos']) == 0:\n",
    "        print(f\"Procesando hoja {padre['valor']} -> 1\")\n",
    "        return 1\n",
    "    print(f\"Inicio proceso padre {padre['valor']}\")\n",
    "    conteo_hojas = 0\n",
    "    for c in padre['hijos']:\n",
    "        conteo_hojas += conteo_hojas_arbol(c)\n",
    "    print(f\"Fin proceso padre {padre['valor']} -> {conteo_hojas}\")\n",
    "    return conteo_hojas\n",
    "\n",
    "conteo_hojas_arbol(arbol_a)"
   ]
  },
  {
   "cell_type": "code",
   "execution_count": 9,
   "metadata": {},
   "outputs": [
    {
     "name": "stdout",
     "output_type": "stream",
     "text": [
      "Inicio grado subarbol a -> 2 \n",
      "Inicio grado subarbol b -> 2 \n",
      "Procesando hoja d -> 0\n",
      "Procesando hoja e -> 0\n",
      "Maximo grado hijos subarbol b -> 0 \n",
      "Maximo grado subarbol b -> 2 \n",
      "Procesando hoja c -> 0\n",
      "Maximo grado hijos subarbol a -> 2 \n",
      "Maximo grado subarbol a -> 2 \n"
     ]
    },
    {
     "data": {
      "text/plain": [
       "2"
      ]
     },
     "execution_count": 9,
     "metadata": {},
     "output_type": "execute_result"
    }
   ],
   "source": [
    "def grado_arbol(padre):\n",
    "    if len(padre['hijos']) == 0:\n",
    "        print(f\"Procesando hoja {padre['valor']} -> 0\")\n",
    "        return 0\n",
    "    max_grado_hijo = 0\n",
    "    print(f\"Inicio grado subarbol {padre['valor']} -> {len(padre['hijos'])} \")\n",
    "    for c in padre['hijos']:\n",
    "        max_grado_hijo = max(max_grado_hijo,grado_arbol(c))\n",
    "    print(f\"Maximo grado hijos subarbol {padre['valor']} -> {max_grado_hijo} \")\n",
    "    max_grado = max(max_grado_hijo, len(pad re['hijos']))\n",
    "    print(f\"Maximo grado subarbol {padre['valor']} -> {max_grado} \")\n",
    "    return max_grado\n",
    "grado_arbol(arbol_a)"
   ]
  }
 ],
 "metadata": {
  "kernelspec": {
   "display_name": "realbase",
   "language": "python",
   "name": "python3"
  },
  "language_info": {
   "codemirror_mode": {
    "name": "ipython",
    "version": 3
   },
   "file_extension": ".py",
   "mimetype": "text/x-python",
   "name": "python",
   "nbconvert_exporter": "python",
   "pygments_lexer": "ipython3",
   "version": "3.11.8"
  }
 },
 "nbformat": 4,
 "nbformat_minor": 2
}
