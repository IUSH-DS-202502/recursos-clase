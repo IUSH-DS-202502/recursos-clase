{
 "cells": [
  {
   "cell_type": "markdown",
   "metadata": {},
   "source": [
    "# Arboles binarios de búsqueda\n",
    "\n",
    "Considere que esta es solo una implementación básica. Un árbol binario para ser una implementación adecuada debe contar con un mecanismo de balanceo.\n",
    "\n",
    "Considere en su lugar [estas implementaciones](https://en.wikipedia.org/wiki/Self-balancing_binary_search_tree#Implementations)."
   ]
  },
  {
   "cell_type": "code",
   "execution_count": 1,
   "metadata": {},
   "outputs": [],
   "source": [
    "class NodoB:\n",
    "    def __init__(self,dato):\n",
    "        self.dato = dato\n",
    "        self.Li = None\n",
    "        self.Ld = None\n",
    "\n",
    "class BST:\n",
    "    def __init__(self):\n",
    "        self.raiz:NodoB = None\n",
    "\n",
    "    def inserta_ordenado(self,dato):\n",
    "        nodo = NodoB(dato)\n",
    "        if self.raiz is None: # Si está vacío se inserta en la raíz\n",
    "            self.raiz = nodo\n",
    "            return\n",
    "        # Se busca desde la raiz la posición a insertar\n",
    "        aux = self.raiz \n",
    "        anterior = None \n",
    "\n",
    "        while aux is not None:\n",
    "            if aux.dato == dato: # Si ya existe el dato en el árbol\n",
    "                return # No se hace nada\n",
    "            \n",
    "            anterior = aux\n",
    "            if(dato > aux.dato): # Si el dato es mayor al contenido en el nodo\n",
    "                aux = aux.Ld # Se avanza por el subárbol derecho\n",
    "            else: # Si el dato es menor\n",
    "                aux = aux.Li  #Se avanza por el lado izquierdo\n",
    "\n",
    "        #Al salir del while, se tendrá el nodo al cual se le debe asociar el nuevo nodo\n",
    "        if(dato > anterior.dato): # si el dato que entra es mayor al dato en el nodo\n",
    "            anterior.Ld = nodo # Se inserta a la derecha\n",
    "        else: # De lo contrario\n",
    "            anterior.Li = nodo # Se inserta a la izquierda\n",
    "    \n",
    "    def inorden(self, padre):\n",
    "        if padre is None:\n",
    "            return\n",
    "        self.inorden(padre.Li)\n",
    "        print(padre.dato, end=\" \")\n",
    "        self.inorden(padre.Ld)\n",
    "    \n",
    "    def preorden(self, padre):\n",
    "        if padre is None:\n",
    "            return\n",
    "        print(padre.dato, end=\" \")\n",
    "        self.preorden(padre.Li)\n",
    "        self.preorden(padre.Ld)\n",
    "\n",
    "    def posorden(self, padre):\n",
    "        if padre is None:\n",
    "            return\n",
    "        self.posorden(padre.Li)\n",
    "        self.posorden(padre.Ld)\n",
    "        print(padre.dato, end=\" \")"
   ]
  },
  {
   "cell_type": "markdown",
   "metadata": {},
   "source": [
    "### Creación de un árbol de ejemplo"
   ]
  },
  {
   "cell_type": "code",
   "execution_count": 2,
   "metadata": {},
   "outputs": [],
   "source": [
    "arbol = BST()\n",
    "arbol.inserta_ordenado(5)\n",
    "arbol.inserta_ordenado(2)\n",
    "arbol.inserta_ordenado(8)\n",
    "arbol.inserta_ordenado(7)\n",
    "arbol.inserta_ordenado(4)\n",
    "arbol.inserta_ordenado(1)\n",
    "arbol.inserta_ordenado(2)\n",
    "arbol.inserta_ordenado(45)"
   ]
  },
  {
   "cell_type": "markdown",
   "metadata": {},
   "source": [
    "### Recorrido preorden"
   ]
  },
  {
   "cell_type": "code",
   "execution_count": 3,
   "metadata": {},
   "outputs": [
    {
     "name": "stdout",
     "output_type": "stream",
     "text": [
      "5 2 1 7 8 45 "
     ]
    }
   ],
   "source": [
    "arbol.preorden(arbol.raiz)"
   ]
  },
  {
   "cell_type": "markdown",
   "metadata": {},
   "source": [
    "### Recorrido Posorden"
   ]
  },
  {
   "cell_type": "code",
   "execution_count": 4,
   "metadata": {},
   "outputs": [
    {
     "name": "stdout",
     "output_type": "stream",
     "text": [
      "1 2 45 8 7 5 "
     ]
    }
   ],
   "source": [
    "arbol.posorden(arbol.raiz)"
   ]
  },
  {
   "cell_type": "markdown",
   "metadata": {},
   "source": [
    "### Recorrido Inorden"
   ]
  },
  {
   "cell_type": "code",
   "execution_count": 6,
   "metadata": {},
   "outputs": [
    {
     "name": "stdout",
     "output_type": "stream",
     "text": [
      "1 2 5 7 8 45 "
     ]
    }
   ],
   "source": [
    "arbol.inorden(arbol.raiz)"
   ]
  }
 ],
 "metadata": {
  "kernelspec": {
   "display_name": "realbase",
   "language": "python",
   "name": "python3"
  },
  "language_info": {
   "codemirror_mode": {
    "name": "ipython",
    "version": 3
   },
   "file_extension": ".py",
   "mimetype": "text/x-python",
   "name": "python",
   "nbconvert_exporter": "python",
   "pygments_lexer": "ipython3",
   "version": "3.11.8"
  }
 },
 "nbformat": 4,
 "nbformat_minor": 2
}
