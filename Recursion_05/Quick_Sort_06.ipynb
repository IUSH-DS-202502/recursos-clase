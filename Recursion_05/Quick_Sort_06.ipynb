{
 "cells": [
  {
   "cell_type": "code",
   "execution_count": 29,
   "metadata": {},
   "outputs": [],
   "source": [
    "def intercambia(V,i,j):\n",
    "    V[i], V[j] = V[j], V[i]"
   ]
  },
  {
   "cell_type": "code",
   "execution_count": 43,
   "metadata": {},
   "outputs": [],
   "source": [
    "def particiona(V,m,n):\n",
    "    # el elemento en la posición 'm' es el valor seleccionado para hacer la partición (pivote)\n",
    "    i = m \n",
    "    j = n\n",
    "    while i < j:\n",
    "        i += 1 # No hay do...while en python :(\n",
    "        while i < n and V[i] <= V[m]: #Se busca de izquierda a derecha la posición de un elemento mayor al pivote\n",
    "            i += 1\n",
    "        j -= 1 # No hay do...while en python :(\n",
    "        while j != m and V[j] >= V[m]: # Se busca de derecha a izquierda la posición de un elemento menor al pivote\n",
    "            j -= 1\n",
    "        if (i < j): # Si se encuentra un elemento a la izquierda más grande que el pivote, y uno a la derecha más pequeño\n",
    "            intercambia(V,i,j) # Se intercambian sus posiciones\n",
    "    # En este punto j tiene la posición en la que se debe hacer la partición\n",
    "    # En la posición j debe haber un elemento menor o igual al pivote.\n",
    "    intercambia(V,j,m) # Se intercambian las posiciones del elemento pivote y el auxiliar.\n",
    "    return j\n",
    "\n",
    "def quick_sort(V, m, n):\n",
    "    if (m<n):\n",
    "        j = particiona(V,m,n) # Reubica el dato de la posición 'm', a su posición final (j)\n",
    "        # En este punto, los elementos menores al de la posición j están a su izquierda, y los mayores a su derecha\n",
    "        quick_sort(V, m, j) # Se ejecuta nuevamente el algortimo \n",
    "        quick_sort(V, j+1, n)"
   ]
  },
  {
   "cell_type": "code",
   "execution_count": 45,
   "metadata": {},
   "outputs": [
    {
     "name": "stdout",
     "output_type": "stream",
     "text": [
      "Arreglo Original: [16, 1, 5, 20, 15, 6]\n",
      "Arreglo Ordenado: [1, 5, 6, 15, 16, 20]\n"
     ]
    }
   ],
   "source": [
    "A = [16,1,5,20,15,6]\n",
    "print(f\"Arreglo Original: {A}\")\n",
    "quick_sort(A, 0,len(A))\n",
    "print(f\"Arreglo Ordenado: {A}\")"
   ]
  }
 ],
 "metadata": {
  "kernelspec": {
   "display_name": "realbase",
   "language": "python",
   "name": "python3"
  },
  "language_info": {
   "codemirror_mode": {
    "name": "ipython",
    "version": 3
   },
   "file_extension": ".py",
   "mimetype": "text/x-python",
   "name": "python",
   "nbconvert_exporter": "python",
   "pygments_lexer": "ipython3",
   "version": "3.11.8"
  }
 },
 "nbformat": 4,
 "nbformat_minor": 2
}
