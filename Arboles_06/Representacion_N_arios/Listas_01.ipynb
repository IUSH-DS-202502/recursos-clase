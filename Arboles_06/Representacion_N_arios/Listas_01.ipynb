{
 "cells": [
  {
   "cell_type": "markdown",
   "metadata": {},
   "source": [
    "# Árboles representados como listas\n",
    "\n",
    "Se considera el primer elemento de la lista como el valor contenido en el nodo y los elementos restantes como ramas a otros nodos."
   ]
  },
  {
   "cell_type": "code",
   "execution_count": 33,
   "metadata": {},
   "outputs": [],
   "source": [
    "import json"
   ]
  },
  {
   "cell_type": "code",
   "execution_count": 41,
   "metadata": {},
   "outputs": [
    {
     "name": "stdout",
     "output_type": "stream",
     "text": [
      "Representación en una sola línea\n",
      "['a', ['b', ['d'], ['e']], ['c']]\n",
      "Representación en multiples líneas\n",
      "[\n",
      "        \"a\",\n",
      "        [\n",
      "                \"b\",\n",
      "                [\n",
      "                        \"d\"\n",
      "                ],\n",
      "                [\n",
      "                        \"e\"\n",
      "                ]\n",
      "        ],\n",
      "        [\n",
      "                \"c\"\n",
      "        ]\n",
      "]\n"
     ]
    }
   ],
   "source": [
    "arbol_a = ['a'] # Se crea la raiz con el elemento 'a'\n",
    "sub_arbol_b = ['b'] # Se crea el subarbol b\n",
    "sub_arbol_c = ['c'] # Se crea el subarbol c\n",
    "arbol_a.append(sub_arbol_b) # Se agrega c como hijo del nodo a (se crea la rama)\n",
    "arbol_a.append(sub_arbol_c) # Se agrega c como hijo del nodo a\n",
    "sub_arbol_d = ['d'] # Se crea el subarbol d\n",
    "sub_arbol_e = ['e'] # Se crea el subarbol e\n",
    "sub_arbol_b.append(sub_arbol_d) # Se agrega b como hijo del nodo b\n",
    "sub_arbol_b.append(sub_arbol_e) # Se agrega c como hijo del nodo b\n",
    "print(\"Representación en una sola línea\")\n",
    "print(arbol_a)\n",
    "print(\"Representación en multiples líneas\")\n",
    "print(json.dumps(arbol_a, indent=8))"
   ]
  },
  {
   "cell_type": "code",
   "execution_count": 28,
   "metadata": {},
   "outputs": [
    {
     "name": "stdout",
     "output_type": "stream",
     "text": [
      "Inicio proceso padre a\n",
      "Inicio proceso padre b\n",
      "Procesando hoja d -> 1\n",
      "Procesando hoja e -> 1\n",
      "Fin proceso padre b -> 2\n",
      "Procesando hoja c -> 1\n",
      "Fin proceso padre a -> 3\n"
     ]
    },
    {
     "data": {
      "text/plain": [
       "3"
      ]
     },
     "execution_count": 28,
     "metadata": {},
     "output_type": "execute_result"
    }
   ],
   "source": [
    "def conteo_hojas_arbol(padre):\n",
    "    if len(padre) <= 1:\n",
    "        print(f\"Procesando hoja {padre[0]} -> 1\")\n",
    "        return 1\n",
    "    print(f\"Inicio proceso padre {padre[0]}\")\n",
    "    conteo_hojas = 0\n",
    "    for c in padre[1:]:\n",
    "        conteo_hojas += conteo_hojas_arbol(c)\n",
    "    print(f\"Fin proceso padre {padre[0]} -> {conteo_hojas}\")\n",
    "    return conteo_hojas\n",
    "\n",
    "conteo_hojas_arbol(arbol_a)"
   ]
  },
  {
   "cell_type": "code",
   "execution_count": 46,
   "metadata": {},
   "outputs": [
    {
     "name": "stdout",
     "output_type": "stream",
     "text": [
      "Inicio grado subarbol a -> 2 \n",
      "Inicio grado subarbol b -> 2 \n",
      "Procesando hoja d -> 0\n",
      "Procesando hoja e -> 0\n",
      "Maximo grado hijos subarbol b -> 0 \n",
      "Maximo grado subarbol b -> 2 \n",
      "Procesando hoja c -> 0\n",
      "Maximo grado hijos subarbol a -> 2 \n",
      "Maximo grado subarbol a -> 2 \n"
     ]
    },
    {
     "data": {
      "text/plain": [
       "2"
      ]
     },
     "execution_count": 46,
     "metadata": {},
     "output_type": "execute_result"
    }
   ],
   "source": [
    "def grado_arbol(padre):\n",
    "    if len(padre) <= 1:\n",
    "        print(f\"Procesando hoja {padre[0]} -> 0\")\n",
    "        return 0\n",
    "    max_grado_hijo = 0\n",
    "    print(f\"Inicio grado subarbol {padre[0]} -> {len(padre)-1} \")\n",
    "    for c in padre[1:]:\n",
    "        max_grado_hijo = max(max_grado_hijo,grado_arbol(c))\n",
    "    print(f\"Maximo grado hijos subarbol {padre[0]} -> {max_grado_hijo} \")\n",
    "    max_grado = max(max_grado_hijo, len(padre)-1)\n",
    "    print(f\"Maximo grado subarbol {padre[0]} -> {max_grado} \")\n",
    "    return max_grado\n",
    "grado_arbol(arbol_a)"
   ]
  },
  {
   "cell_type": "code",
   "execution_count": 42,
   "metadata": {},
   "outputs": [
    {
     "name": "stdout",
     "output_type": "stream",
     "text": [
      "a\n",
      "   b\n",
      "      d\n",
      "      e\n",
      "   c\n"
     ]
    }
   ],
   "source": [
    "def print_arbol(padre, idx):\n",
    "    espacios = \" \" * idx\n",
    "    print(f\"{espacios}{padre[0]}\")\n",
    "    for c in padre[1:]:\n",
    "        print_arbol(c, idx + 3)\n",
    "\n",
    "print_arbol(arbol_a, 0)"
   ]
  }
 ],
 "metadata": {
  "kernelspec": {
   "display_name": "realbase",
   "language": "python",
   "name": "python3"
  },
  "language_info": {
   "codemirror_mode": {
    "name": "ipython",
    "version": 3
   },
   "file_extension": ".py",
   "mimetype": "text/x-python",
   "name": "python",
   "nbconvert_exporter": "python",
   "pygments_lexer": "ipython3",
   "version": "3.11.8"
  }
 },
 "nbformat": 4,
 "nbformat_minor": 2
}
